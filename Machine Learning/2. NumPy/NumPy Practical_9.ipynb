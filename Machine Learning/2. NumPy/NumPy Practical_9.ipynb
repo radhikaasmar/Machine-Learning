{
 "cells": [
  {
   "cell_type": "markdown",
   "id": "751c39dc-6230-4b7c-803c-b2026dcda720",
   "metadata": {},
   "source": [
    "String Operations, Comparison and information"
   ]
  },
  {
   "cell_type": "code",
   "execution_count": 1,
   "id": "6342eccb-bb04-4948-aaf4-36114dbf2492",
   "metadata": {},
   "outputs": [],
   "source": [
    "import numpy as np"
   ]
  },
  {
   "cell_type": "code",
   "execution_count": 4,
   "id": "bfbc3f74-a2df-4ee4-ba47-0b0b518262f7",
   "metadata": {},
   "outputs": [],
   "source": [
    "ch_name = \"Indian AI Production \"\n",
    "str1 = \"Learning Python NumPy\""
   ]
  },
  {
   "cell_type": "code",
   "execution_count": 5,
   "id": "94bc4631-388e-49c9-b4c5-e42eb1d35cb9",
   "metadata": {},
   "outputs": [
    {
     "data": {
      "text/plain": [
       "array('Indian AI Production Learning Python NumPy', dtype='<U42')"
      ]
     },
     "execution_count": 5,
     "metadata": {},
     "output_type": "execute_result"
    }
   ],
   "source": [
    "np.char.add(ch_name, str1)"
   ]
  },
  {
   "cell_type": "code",
   "execution_count": 6,
   "id": "c737f41f-0774-46b7-a5fe-4cde0baaa959",
   "metadata": {},
   "outputs": [
    {
     "data": {
      "text/plain": [
       "array('indian ai production ', dtype='<U21')"
      ]
     },
     "execution_count": 6,
     "metadata": {},
     "output_type": "execute_result"
    }
   ],
   "source": [
    "np.char.lower(ch_name)"
   ]
  },
  {
   "cell_type": "code",
   "execution_count": 7,
   "id": "6a3b2b7e-7eb5-4e45-b4bf-c63a53703661",
   "metadata": {},
   "outputs": [
    {
     "data": {
      "text/plain": [
       "array('LEARNING PYTHON NUMPY', dtype='<U21')"
      ]
     },
     "execution_count": 7,
     "metadata": {},
     "output_type": "execute_result"
    }
   ],
   "source": [
    "np.char.upper(str1)"
   ]
  },
  {
   "cell_type": "code",
   "execution_count": 8,
   "id": "8bdf1902-bdbc-4a97-a742-5c1a49eb3d63",
   "metadata": {},
   "outputs": [
    {
     "data": {
      "text/plain": [
       "array('                   Learning Python NumPy                    ',\n",
       "      dtype='<U60')"
      ]
     },
     "execution_count": 8,
     "metadata": {},
     "output_type": "execute_result"
    }
   ],
   "source": [
    "np.char.center(str1,60)"
   ]
  },
  {
   "cell_type": "code",
   "execution_count": 9,
   "id": "86ec033d-7919-40c2-b3e9-3049cb78434a",
   "metadata": {},
   "outputs": [
    {
     "data": {
      "text/plain": [
       "array('*******************Learning Python NumPy********************',\n",
       "      dtype='<U60')"
      ]
     },
     "execution_count": 9,
     "metadata": {},
     "output_type": "execute_result"
    }
   ],
   "source": [
    "np.char.center(str1,60, fillchar=\"*\")"
   ]
  },
  {
   "cell_type": "code",
   "execution_count": 10,
   "id": "1604d4fc-22d8-4a7e-a5da-6a5874bacb94",
   "metadata": {},
   "outputs": [
    {
     "data": {
      "text/plain": [
       "array(list(['Indian', 'AI', 'Production']), dtype=object)"
      ]
     },
     "execution_count": 10,
     "metadata": {},
     "output_type": "execute_result"
    }
   ],
   "source": [
    "np.char.split(ch_name)"
   ]
  },
  {
   "cell_type": "code",
   "execution_count": 11,
   "id": "08ed6580-9809-4fde-b62b-4c3d0524e2a6",
   "metadata": {},
   "outputs": [
    {
     "data": {
      "text/plain": [
       "array(list(['hello', 'Indian']), dtype=object)"
      ]
     },
     "execution_count": 11,
     "metadata": {},
     "output_type": "execute_result"
    }
   ],
   "source": [
    "np.char.splitlines(\"hello\\nIndian\")"
   ]
  },
  {
   "cell_type": "code",
   "execution_count": 13,
   "id": "17559657-2e0a-4dd0-b1b2-8dec390140d1",
   "metadata": {},
   "outputs": [
    {
     "data": {
      "text/plain": [
       "array(['d:m:y', 'd/m/y'], dtype='<U5')"
      ]
     },
     "execution_count": 13,
     "metadata": {},
     "output_type": "execute_result"
    }
   ],
   "source": [
    "str4 = \"dmy\"\n",
    "str5 = \"dmy\"\n",
    "np.char.join([\":\", \"/\"], [str4,str5])"
   ]
  },
  {
   "cell_type": "code",
   "execution_count": 14,
   "id": "8dec8f83-81be-4303-a2b9-4911e365918c",
   "metadata": {},
   "outputs": [
    {
     "data": {
      "text/plain": [
       "array('Indian Artificial Intelligence Production ', dtype='<U42')"
      ]
     },
     "execution_count": 14,
     "metadata": {},
     "output_type": "execute_result"
    }
   ],
   "source": [
    "np.char.replace(ch_name, \"AI\", \"Artificial Intelligence\")"
   ]
  },
  {
   "cell_type": "code",
   "execution_count": 15,
   "id": "b540d42e-d2fc-446c-9380-cb70df67ac99",
   "metadata": {},
   "outputs": [
    {
     "data": {
      "text/plain": [
       "array(True)"
      ]
     },
     "execution_count": 15,
     "metadata": {},
     "output_type": "execute_result"
    }
   ],
   "source": [
    "np.char.equal(str4, str5)"
   ]
  },
  {
   "cell_type": "code",
   "execution_count": 16,
   "id": "ec7f32b3-b0df-4f14-b803-45865c64c9d3",
   "metadata": {},
   "outputs": [
    {
     "data": {
      "text/plain": [
       "array(1)"
      ]
     },
     "execution_count": 16,
     "metadata": {},
     "output_type": "execute_result"
    }
   ],
   "source": [
    "np.char.count(ch_name, \"a\")"
   ]
  },
  {
   "cell_type": "code",
   "execution_count": 17,
   "id": "4064dbc7-cc49-4c3d-bb6a-755b5fe34827",
   "metadata": {},
   "outputs": [
    {
     "data": {
      "text/plain": [
       "'Indian AI Production '"
      ]
     },
     "execution_count": 17,
     "metadata": {},
     "output_type": "execute_result"
    }
   ],
   "source": [
    "ch_name"
   ]
  },
  {
   "cell_type": "code",
   "execution_count": null,
   "id": "b4f4a9a5-cf67-48f5-b347-a2761073e8a7",
   "metadata": {},
   "outputs": [],
   "source": [
    "np.char"
   ]
  }
 ],
 "metadata": {
  "kernelspec": {
   "display_name": "Python 3 (ipykernel)",
   "language": "python",
   "name": "python3"
  },
  "language_info": {
   "codemirror_mode": {
    "name": "ipython",
    "version": 3
   },
   "file_extension": ".py",
   "mimetype": "text/x-python",
   "name": "python",
   "nbconvert_exporter": "python",
   "pygments_lexer": "ipython3",
   "version": "3.11.7"
  }
 },
 "nbformat": 4,
 "nbformat_minor": 5
}
