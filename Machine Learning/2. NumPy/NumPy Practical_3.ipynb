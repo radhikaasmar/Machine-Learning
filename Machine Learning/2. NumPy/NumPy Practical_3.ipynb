{
 "cells": [
  {
   "cell_type": "code",
   "execution_count": 1,
   "id": "d1a89c5f-e9d6-46a8-bb0d-925a3351d9ef",
   "metadata": {},
   "outputs": [],
   "source": [
    "#Numpy Functions"
   ]
  },
  {
   "cell_type": "code",
   "execution_count": 2,
   "id": "bc290993-9b97-41a9-a34b-ecca4ec1977b",
   "metadata": {},
   "outputs": [],
   "source": [
    "import numpy as np"
   ]
  },
  {
   "cell_type": "code",
   "execution_count": 3,
   "id": "081a7660-8205-45c5-ad42-962b4fae9f03",
   "metadata": {},
   "outputs": [],
   "source": [
    "#arange()"
   ]
  },
  {
   "cell_type": "code",
   "execution_count": 4,
   "id": "b3201327-e713-463c-a0a0-9dd2041b3ce1",
   "metadata": {},
   "outputs": [
    {
     "name": "stdout",
     "output_type": "stream",
     "text": [
      "[ 1  2  3  4  5  6  7  8  9 10 11 12]\n"
     ]
    }
   ],
   "source": [
    "#np.arange(start, end, steps)\n",
    "ar_1d = np.arange(1,13)\n",
    "print(ar_1d)"
   ]
  },
  {
   "cell_type": "code",
   "execution_count": 5,
   "id": "7705b933-5dc6-4cd6-9541-3e6d4734a37c",
   "metadata": {},
   "outputs": [
    {
     "name": "stdout",
     "output_type": "stream",
     "text": [
      "[ 1  3  5  7  9 11]\n"
     ]
    }
   ],
   "source": [
    "odd_arr = np.arange(1,13,2)\n",
    "print(odd_arr)"
   ]
  },
  {
   "cell_type": "code",
   "execution_count": 6,
   "id": "fa08e403-1e32-41ac-bc4f-bfe04d4494a5",
   "metadata": {},
   "outputs": [],
   "source": [
    "#linspace()"
   ]
  },
  {
   "cell_type": "code",
   "execution_count": 7,
   "id": "072dd652-732e-4938-9065-7b803747c349",
   "metadata": {},
   "outputs": [
    {
     "data": {
      "text/plain": [
       "array([1.        , 2.33333333, 3.66666667, 5.        ])"
      ]
     },
     "execution_count": 7,
     "metadata": {},
     "output_type": "execute_result"
    }
   ],
   "source": [
    "np.linspace(1,5,4)"
   ]
  },
  {
   "cell_type": "code",
   "execution_count": 8,
   "id": "aa8b16cf-3f4a-4002-97d9-4c45cce7b32a",
   "metadata": {},
   "outputs": [],
   "source": [
    "#reshape()"
   ]
  },
  {
   "cell_type": "code",
   "execution_count": 9,
   "id": "bd856bf5-68f0-45e0-a4e1-5778a9400caa",
   "metadata": {},
   "outputs": [
    {
     "name": "stdout",
     "output_type": "stream",
     "text": [
      "[[ 1  2  3  4]\n",
      " [ 5  6  7  8]\n",
      " [ 9 10 11 12]]\n"
     ]
    }
   ],
   "source": [
    "ar_2d = ar_1d.reshape(3,4)\n",
    "print(ar_2d)"
   ]
  },
  {
   "cell_type": "code",
   "execution_count": 10,
   "id": "480a948e-6eed-4a74-a2ea-1d4eb068c26f",
   "metadata": {},
   "outputs": [
    {
     "name": "stdout",
     "output_type": "stream",
     "text": [
      "[[[ 1  2]\n",
      "  [ 3  4]\n",
      "  [ 5  6]]\n",
      "\n",
      " [[ 7  8]\n",
      "  [ 9 10]\n",
      "  [11 12]]]\n"
     ]
    }
   ],
   "source": [
    "ar_2d = ar_1d.reshape(2,3,2)\n",
    "print(ar_2d)"
   ]
  },
  {
   "cell_type": "code",
   "execution_count": 11,
   "id": "981d8622-dd54-4541-8d61-b1717577671c",
   "metadata": {},
   "outputs": [
    {
     "name": "stdout",
     "output_type": "stream",
     "text": [
      "[[ 1  2  3  4  5  6]\n",
      " [ 7  8  9 10 11 12]]\n"
     ]
    }
   ],
   "source": [
    "ar=np.arange(1,13).reshape(2,6)\n",
    "print(ar)"
   ]
  },
  {
   "cell_type": "code",
   "execution_count": 12,
   "id": "6d7a0537-c9f7-4816-852f-1cfccacc1eb0",
   "metadata": {},
   "outputs": [],
   "source": [
    "#ravel()"
   ]
  },
  {
   "cell_type": "code",
   "execution_count": 13,
   "id": "4429f591-4d58-4a9a-b59c-6a0ada6c0f00",
   "metadata": {},
   "outputs": [
    {
     "data": {
      "text/plain": [
       "array([ 1,  2,  3,  4,  5,  6,  7,  8,  9, 10, 11, 12])"
      ]
     },
     "execution_count": 13,
     "metadata": {},
     "output_type": "execute_result"
    }
   ],
   "source": [
    "ar_1d.ravel()"
   ]
  },
  {
   "cell_type": "code",
   "execution_count": 14,
   "id": "6b8c24e7-e20d-4157-bca9-da5ba28bdfb3",
   "metadata": {},
   "outputs": [],
   "source": [
    "#flatten()"
   ]
  },
  {
   "cell_type": "code",
   "execution_count": 15,
   "id": "450f05c9-cf8e-43e5-a957-e0985c78b93d",
   "metadata": {},
   "outputs": [
    {
     "data": {
      "text/plain": [
       "array([ 1,  2,  3,  4,  5,  6,  7,  8,  9, 10, 11, 12])"
      ]
     },
     "execution_count": 15,
     "metadata": {},
     "output_type": "execute_result"
    }
   ],
   "source": [
    "ar_1d.flatten()"
   ]
  },
  {
   "cell_type": "code",
   "execution_count": 16,
   "id": "6ea04ded-ae88-4ffc-a61b-0ffc54b63217",
   "metadata": {},
   "outputs": [],
   "source": [
    "#transpose()"
   ]
  },
  {
   "cell_type": "code",
   "execution_count": 17,
   "id": "829d1524-7089-4bcd-a85e-ad98b24178d3",
   "metadata": {},
   "outputs": [
    {
     "data": {
      "text/plain": [
       "array([ 1,  2,  3,  4,  5,  6,  7,  8,  9, 10, 11, 12])"
      ]
     },
     "execution_count": 17,
     "metadata": {},
     "output_type": "execute_result"
    }
   ],
   "source": [
    "ar_1d.transpose()"
   ]
  },
  {
   "cell_type": "code",
   "execution_count": 18,
   "id": "53cef371-9ee2-4082-8f37-1a075f980347",
   "metadata": {},
   "outputs": [
    {
     "data": {
      "text/plain": [
       "array([ 1,  2,  3,  4,  5,  6,  7,  8,  9, 10, 11, 12])"
      ]
     },
     "execution_count": 18,
     "metadata": {},
     "output_type": "execute_result"
    }
   ],
   "source": [
    "ar_1d.T"
   ]
  },
  {
   "cell_type": "code",
   "execution_count": null,
   "id": "f08622c0-2a93-456f-89e2-0b8eda82f535",
   "metadata": {},
   "outputs": [],
   "source": []
  }
 ],
 "metadata": {
  "kernelspec": {
   "display_name": "Python 3 (ipykernel)",
   "language": "python",
   "name": "python3"
  },
  "language_info": {
   "codemirror_mode": {
    "name": "ipython",
    "version": 3
   },
   "file_extension": ".py",
   "mimetype": "text/x-python",
   "name": "python",
   "nbconvert_exporter": "python",
   "pygments_lexer": "ipython3",
   "version": "3.11.7"
  }
 },
 "nbformat": 4,
 "nbformat_minor": 5
}
